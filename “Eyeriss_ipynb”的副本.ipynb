{
  "cells": [
    {
      "cell_type": "markdown",
      "metadata": {
        "id": "view-in-github",
        "colab_type": "text"
      },
      "source": [
        "<a href=\"https://colab.research.google.com/github/vivian7v/Courses-System/blob/main/%E2%80%9CEyeriss_ipynb%E2%80%9D%E7%9A%84%E5%89%AF%E6%9C%AC.ipynb\" target=\"_parent\"><img src=\"https://colab.research.google.com/assets/colab-badge.svg\" alt=\"Open In Colab\"/></a>"
      ]
    },
    {
      "cell_type": "markdown",
      "metadata": {
        "id": "JA0rETRQZBON"
      },
      "source": [
        "# EE 599 Reading Assignment 1:\n",
        "You can access paper using this [link](https://courses.cs.washington.edu/courses/cse550/21au/papers/CSE550.Eyeriss.pdf), and please do not distribute the paper."
      ]
    },
    {
      "cell_type": "markdown",
      "metadata": {
        "id": "s-HWWv6kaxrx"
      },
      "source": [
        "### Q1: (1 Point)\n",
        "\n",
        "**Disallowed** list:\n",
        "- You **MAY NOT** collaborate with anyone else on this assignment. This means you cannot talk to anyone else about the assignment until after deadline.\n",
        "- You **MAY NOT** use ChatGPT and services like that\n",
        "\n",
        "**Allowed** list:\n",
        "- Notes including any slides from the class\n",
        "- The textbooks\n",
        "- The given paper"
      ]
    },
    {
      "cell_type": "markdown",
      "metadata": {
        "id": "Pz0uD-nHbHuT"
      },
      "source": [
        "### A1:\n",
        "\n",
        "I affirm I have read these exam rules and will follow them. Failure to do so may subject me to sanctions including an F in the course.\n",
        "\n",
        "**Type your full name to affirm you have read the above statement:**\n"
      ]
    },
    {
      "cell_type": "markdown",
      "source": [
        "Wei Qi"
      ],
      "metadata": {
        "id": "-K_UnTMKvCEM"
      }
    },
    {
      "cell_type": "markdown",
      "metadata": {
        "id": "XzNWLVCLbcjq"
      },
      "source": [
        "----\n",
        "### Q2 Summary (24 Points):\n",
        "\n",
        "Summarize the main objectives and contributions of the paper."
      ]
    },
    {
      "cell_type": "markdown",
      "metadata": {
        "id": "0j5A4_Zfbpra"
      },
      "source": [
        "### A2:"
      ]
    },
    {
      "cell_type": "markdown",
      "source": [
        "This article introduces Eyeriss, an energy-efficient reconfigurable accelerator designed for deep convolutional neural networks (CNNS).\n",
        "Eyeriss optimizes the energy efficiency of the entire system, including accelerator chips and off-chip DRAM, through a novel data flow approach called row stationary (RS) data flow and spatial architecture. Eyeriss is able to handle different shapes of CNNS, and it further improves energy efficiency through compression and data gating technologies."
      ],
      "metadata": {
        "id": "_SwQ73Bswvn4"
      }
    },
    {
      "cell_type": "markdown",
      "metadata": {
        "id": "IE2n5UQHbuZ-"
      },
      "source": [
        "---\n",
        "### Q3 Comprehension (15 Points):\n",
        "- What problem is the paper addressing?\n",
        "- How does the Eyeriss architecture differ from other architectures you are familiar with?"
      ]
    },
    {
      "cell_type": "markdown",
      "metadata": {
        "id": "9O7k2DbXcNp0"
      },
      "source": [
        "### A3:"
      ]
    },
    {
      "cell_type": "markdown",
      "source": [
        "*   This paper addresses the energy efficiency and performance\n",
        "bottlenecks of deep convolutional neural networks (CNNS).\n",
        "*   Eyeriss differs from traditional accelerators in that it uses a novel data flow strategy and architecture design. Different from input stationary, output stationa and weight stationary, which we discussed in class, Eyeriss introduced row stationary data streams. This data flow strategy reduces access to energy-intensive DRAM by maximizing data reuse in the processor's local memory, resulting in improved energy efficiency and processing speed. In addition, it uses a spatial array architecture, giving it the flexibility to adapt to CNN models of different shapes and sizes.\n",
        "\n"
      ],
      "metadata": {
        "id": "nW2v8jT3y6Ei"
      }
    },
    {
      "cell_type": "markdown",
      "metadata": {
        "id": "PnzcxvhWckY5"
      },
      "source": [
        "---\n",
        "### Q4 Technical Deep Dive (15 Points):\n",
        "- Describe the spatial architecture of Eyeriss in your own words.\n",
        "- How does the Eyeriss architecture optimize energy efficiency in dataflow for CNNs?\n",
        "- What are the main challenges in designing an energy-efficient architecture for CNNs, and how does Eyeriss tackle these challenges?"
      ]
    },
    {
      "cell_type": "markdown",
      "metadata": {
        "id": "sv3rFNjpcuID"
      },
      "source": [
        "### A4:"
      ]
    },
    {
      "cell_type": "markdown",
      "source": [
        "\n",
        "\n",
        "*  The spatial architecture consists of an array of 168 processing elements (PE), and it creates a four-tier memory hierarchy.\n",
        "*   Row Stationary, which reconfigures the spatial architecture to map calculations for a given CNN shape, improves energy efficiency by storing data in local memory and reducing access to energy-intensive external memory.\n",
        "*   The main challenges include how to reduce data movement, how to improve data reuse rates, and how to adapt to CNN models of different sizes and structures. Eyeriss addresses these challenges through its data flow strategy, compression technology and data scheduling.\n",
        "\n",
        "\n",
        "\n"
      ],
      "metadata": {
        "id": "r32IjPVA1VWf"
      }
    },
    {
      "cell_type": "markdown",
      "metadata": {
        "id": "HRBvFutTc2uh"
      },
      "source": [
        "---\n",
        "### Q5 Evaluation (15 Points):\n",
        "- What were the key results or findings of the paper? Were they compelling?\n",
        "- How do the authors validate their claims or results? Are there any weaknesses in their methodology?"
      ]
    },
    {
      "cell_type": "markdown",
      "metadata": {
        "id": "xKUL8nhTdNLZ"
      },
      "source": [
        "### A5:"
      ]
    },
    {
      "cell_type": "markdown",
      "source": [
        "\n",
        "\n",
        "*   The key result of this paper is that Eyeriss accelerators can significantly improve energy efficiency and performance when dealing with deep convolutional neural networks and they are compelling.\n",
        "*   The claims are supported by comparisons with traditional methods and other accelerator architectures, as well as experimental validation on different CNN models. There may be some limitations to the methodology, such as the scalability and applicability of the hardware design may vary in different practical application scenarios.\n",
        "\n"
      ],
      "metadata": {
        "id": "NomMsqGX4z1q"
      }
    },
    {
      "cell_type": "markdown",
      "metadata": {
        "id": "Fp_FV2bzdV4D"
      },
      "source": [
        "---\n",
        "### Q6 Contextual Understanding (10 Points):\n",
        "- How does this work fit into the larger context of neural network architectures and energy efficiency?\n",
        "- Can the principles of Eyeriss be applied to other deep learning architectures beyond CNNs?\n"
      ]
    },
    {
      "cell_type": "markdown",
      "metadata": {
        "id": "OvpxYhvNdg18"
      },
      "source": [
        "### A6:"
      ]
    },
    {
      "cell_type": "markdown",
      "source": [
        "\n",
        "\n",
        "*   It provides a new direction for the optimization of deep learning hardware design by solving the high energy efficiency problem of convolutional neural networks.\n",
        "*   Yes, it can be applied to other architectures like RNNS.\n",
        "\n"
      ],
      "metadata": {
        "id": "Ff2gqCge6WbL"
      }
    },
    {
      "cell_type": "markdown",
      "metadata": {
        "id": "cxUpnGmtdjfX"
      },
      "source": [
        "---\n",
        "### Q7 Discussion and Critique (10 points):\n",
        "- Are there any assumptions made by the authors that you disagree with or find questionable?\n",
        "- Do you think there are potential improvements or future directions not addressed by the authors?\n",
        "- How would you compare Eyeriss with other architectures or solutions you know of?"
      ]
    },
    {
      "cell_type": "markdown",
      "metadata": {
        "id": "cjAQy1qLdvZ7"
      },
      "source": [
        "### A7:"
      ]
    },
    {
      "cell_type": "markdown",
      "source": [
        "\n",
        "\n",
        "*   No.\n",
        "*   As mentioned in last question, it can be applied to other deep learning architectures beyond CNNs.\n",
        "*   Eyeriss has demonstrated innovation in its data flow strategy and spatial architecture design compared to other architectures or solutions I know of.\n",
        "\n",
        "\n",
        "\n"
      ],
      "metadata": {
        "id": "hCryOjst7Fpu"
      }
    },
    {
      "cell_type": "markdown",
      "metadata": {
        "id": "hSMCnPg8d_0S"
      },
      "source": [
        "---\n",
        "### Q8 Reflection (10 Points):\n",
        "- What was the most surprising or counterintuitive thing you learned from this paper?\n",
        "- How has reading this paper influenced your views on the importance of energy efficiency in deep learning?"
      ]
    },
    {
      "cell_type": "markdown",
      "metadata": {
        "id": "nBtgEgPXeNR5"
      },
      "source": [
        "### A8:"
      ]
    },
    {
      "cell_type": "markdown",
      "source": [
        "\n",
        "\n",
        "*   The most surprising thing I learn from it is that Eyeriss optimizes local reuse of data through its Row Stationary data flow strategy, reducing costly data movement.\n",
        "*   This paper influenced my understanding of the importance of energy efficiency in deep learning and the need to develop strategies and architectures that are low energy and high performance.\n",
        "\n"
      ],
      "metadata": {
        "id": "A0gBdkO68Uh6"
      }
    }
  ],
  "metadata": {
    "colab": {
      "provenance": [],
      "include_colab_link": true
    },
    "kernelspec": {
      "display_name": "Python 3",
      "name": "python3"
    },
    "language_info": {
      "name": "python"
    }
  },
  "nbformat": 4,
  "nbformat_minor": 0
}